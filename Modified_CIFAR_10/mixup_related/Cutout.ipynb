{
 "cells": [
  {
   "cell_type": "code",
   "execution_count": 28,
   "metadata": {},
   "outputs": [
    {
     "data": {
      "image/png": "[encoded data removed]",
      "text/plain": [
       "<Figure size 432x288 with 2 Axes>"
      ]
     },
     "metadata": {
      "needs_background": "light"
     },
     "output_type": "display_data"
    }
   ],
   "source": [
    "import os\n",
    "import cv2\n",
    "import numpy as np\n",
    "import random\n",
    "import matplotlib.pyplot as plt\n",
    "\n",
    "def get_file_name(path):\n",
    "    '''\n",
    "    ### Get Filename of Filepath ###\n",
    "    path: path to file\n",
    "    '''\n",
    "    basename = os.path.basename(path)\n",
    "    onlyname = os.path.splitext(basename)[0]\n",
    "    return onlyname\n",
    "\n",
    "\n",
    "def cutout(img, gt_boxes, amount=0.5):\n",
    "    '''\n",
    "    ### Cutout ###\n",
    "    img: image\n",
    "    gt_boxes: format [[obj x1 y1 x2 y2],...]\n",
    "    amount: num of masks / num of objects \n",
    "    '''\n",
    "    out = img.copy()\n",
    "\n",
    "    for box in gt_boxes:\n",
    "        x1 = int(box[1])\n",
    "        y1 = int(box[2])\n",
    "        x2 = int(box[3])\n",
    "        y2 = int(box[4])\n",
    "        mask_w = int((x2 - x1)*0.5)\n",
    "        mask_h = int((y2 - y1)*0.5)\n",
    "        mask_x1 = random.randint(x1, x2 - mask_w)\n",
    "        mask_y1 = random.randint(y1, y2 - mask_h)\n",
    "        mask_x2 = mask_x1 + mask_w\n",
    "        mask_y2 = mask_y1 + mask_h\n",
    "        cv2.rectangle(out, (mask_x1, mask_y1), (mask_x2, mask_y2), (0, 0, 0), thickness=-1)\n",
    "    return out\n",
    "\n",
    "image = cv2.imread('dog4.png')\n",
    "gt_boxes = [[None,5,5,25,25]]\n",
    "\n",
    "# Cutout\n",
    "cutout_1 = cutout(image, gt_boxes, amount=0.5)\n",
    "\n",
    "image_2 = cv2.imread('airplane4.png')\n",
    "cutout_2 = cutout(image_2, gt_boxes, amount=0.5)\n",
    "\n",
    "plt.subplot(1,2,1)\n",
    "plt.imshow(cutout_1)\n",
    "\n",
    "plt.subplot(1,2,2)\n",
    "plt.imshow(cutout_2)\n",
    "# imgplot = plt.imshow(cutout)\n",
    "plt.show()"
   ]
  },
  {
   "cell_type": "code",
   "execution_count": null,
   "metadata": {},
   "outputs": [],
   "source": []
  }
 ],
 "metadata": {
  "kernelspec": {
   "display_name": "Python 3",
   "language": "python",
   "name": "python3"
  },
  "language_info": {
   "codemirror_mode": {
    "name": "ipython",
    "version": 3
   },
   "file_extension": ".py",
   "mimetype": "text/x-python",
   "name": "python",
   "nbconvert_exporter": "python",
   "pygments_lexer": "ipython3",
   "version": "3.7.6"
  }
 },
 "nbformat": 4,
 "nbformat_minor": 4
}
